{
 "cells": [
  {
   "cell_type": "code",
   "execution_count": 1,
   "metadata": {},
   "outputs": [
    {
     "ename": "ModuleNotFoundError",
     "evalue": "No module named 'arff'",
     "output_type": "error",
     "traceback": [
      "\u001b[0;31m---------------------------------------------------------------------------\u001b[0m",
      "\u001b[0;31mModuleNotFoundError\u001b[0m                       Traceback (most recent call last)",
      "Cell \u001b[0;32mIn [1], line 10\u001b[0m\n\u001b[1;32m      8\u001b[0m \u001b[38;5;28;01mfrom\u001b[39;00m \u001b[38;5;21;01msklearn\u001b[39;00m\u001b[38;5;21;01m.\u001b[39;00m\u001b[38;5;21;01mnaive_bayes\u001b[39;00m \u001b[38;5;28;01mimport\u001b[39;00m GaussianNB\n\u001b[1;32m      9\u001b[0m \u001b[38;5;28;01mfrom\u001b[39;00m \u001b[38;5;21;01msklearn\u001b[39;00m\u001b[38;5;21;01m.\u001b[39;00m\u001b[38;5;21;01mensemble\u001b[39;00m \u001b[38;5;28;01mimport\u001b[39;00m RandomForestClassifier\n\u001b[0;32m---> 10\u001b[0m \u001b[38;5;28;01mimport\u001b[39;00m \u001b[38;5;21;01marff\u001b[39;00m \u001b[38;5;28;01mas\u001b[39;00m \u001b[38;5;21;01marf\u001b[39;00m\n",
      "\u001b[0;31mModuleNotFoundError\u001b[0m: No module named 'arff'"
     ]
    }
   ],
   "source": [
    "import pandas as pd\n",
    "import numpy as np\n",
    "from sklearn.model_selection import train_test_split\n",
    "from sklearn.preprocessing import StandardScaler\n",
    "from sklearn.svm import SVC\n",
    "from sklearn.metrics import accuracy_score\n",
    "from sklearn.neighbors import KNeighborsClassifier\n",
    "from sklearn.naive_bayes import GaussianNB\n",
    "from sklearn.ensemble import RandomForestClassifier\n",
    "import arff as arf"
   ]
  },
  {
   "cell_type": "markdown",
   "metadata": {
    "tags": []
   },
   "source": [
    "# First Implementation\n"
   ]
  },
  {
   "cell_type": "code",
   "execution_count": null,
   "metadata": {},
   "outputs": [],
   "source": [
    "file = open(\"dataset/final-dataset.arff\")\n",
    "decoder=arf.ArffDecoder()\n",
    "data=decoder.decode(file,encode_nominal=True)"
   ]
  },
  {
   "cell_type": "code",
   "execution_count": null,
   "metadata": {},
   "outputs": [],
   "source": [
    "vals=[val[0: -1] for val in data ['data']]\n",
    "labels= [lab[-1] for lab  in data ['data']]"
   ]
  },
  {
   "cell_type": "code",
   "execution_count": null,
   "metadata": {},
   "outputs": [],
   "source": [
    "da=set(labels)\n",
    "beac=600\n",
    "temp1=[]\n",
    "tempd=[]\n",
    "for 1 in da:\n",
    "    coun=0\n",
    "    while coun<brac:\n",
    "        for j in range(len(labels))\n",
    "        if labels[j]:\n",
    "            temp1.append(labels[j])\n",
    "            tempd.append(vals[j])\n",
    "            coun+=1\n",
    "            if coun==brac:\n",
    "                break\n",
    "vals=tempd\n",
    "labels=temp1"
   ]
  },
  {
   "cell_type": "code",
   "execution_count": null,
   "metadata": {},
   "outputs": [],
   "source": [
    "l=len(vals)"
   ]
  },
  {
   "cell_type": "code",
   "execution_count": null,
   "metadata": {},
   "outputs": [],
   "source": [
    "X_train, X_test, Y_train,Y_test=train_test_split(vals,labels,stratify=labels,test_size=0.2,random_state=0)"
   ]
  },
  {
   "cell_type": "code",
   "execution_count": null,
   "metadata": {},
   "outputs": [],
   "source": [
    "scaler=StandardScaler()\n",
    "x_train=scaler.fit_transform(X_train)\n",
    "x_test=scaler.transform(X_test)\n",
    "y_train=np.array(Y_train)\n",
    "y_test=np.array(Y_test)"
   ]
  },
  {
   "cell_type": "code",
   "execution_count": null,
   "metadata": {},
   "outputs": [],
   "source": [
    "model = KNeighborsClassifier(n_neighbors= 5)\n",
    "model.fit(x_train,y_train)"
   ]
  },
  {
   "cell_type": "code",
   "execution_count": null,
   "metadata": {},
   "outputs": [],
   "source": [
    "y_pred = model.predict(x_test)"
   ]
  },
  {
   "cell_type": "code",
   "execution_count": null,
   "metadata": {},
   "outputs": [],
   "source": [
    "print((accuracy_score(y_pred, y_test))*100,%)"
   ]
  },
  {
   "cell_type": "code",
   "execution_count": null,
   "metadata": {},
   "outputs": [],
   "source": [
    "train_x,val_x,train_y,val_y=train_test_split(x_train,y_train,stratify=y_train,test_size=0.2,random_state=0)"
   ]
  },
  {
   "cell_type": "code",
   "execution_count": null,
   "metadata": {},
   "outputs": [],
   "source": [
    "print(x_train.shape,x_test.shape)"
   ]
  },
  {
   "cell_type": "code",
   "execution_count": null,
   "metadata": {},
   "outputs": [],
   "source": [
    "columns=['SRC_ADD','DES_ADD','PKT_ID','FROM_NODE','TO_NODE','PKT_TYPE','PKT_SIZE','FID','SEQ_NUMBER','NUMBER_OF_PKT','NUMBER_OF_BYTE','NODE_NAME_FROM','NODE_NAME_TO','PKT_IN','PKT_OUT','PKT_R','PKT_DELAY_NODE','PKT_RATE','BYTE_RATE','PKT_AVG_SIZE','UTILIZATION','PKT_DELAY','PKT_SEND_TIME','PKT_RESEVED_TIME','FIRST_PKT_SENT','LAST_PKT_RESEVED']"
   ]
  },
  {
   "cell_type": "code",
   "execution_count": null,
   "metadata": {},
   "outputs": [],
   "source": [
    "model=SVC(kernel='sigmoid',gamma='auto')\n",
    "model1.fit(train_x,train_y)\n",
    "y_val_pred1=model1.predict(val_x)\n",
    "y_val_pred1=pd.DataFrame(y_val_pred1)\n",
    "y_test_pred1=model1.predict(x_test)\n",
    "y_test_pred1=pd.DataFrame(y_test_pred1)"
   ]
  },
  {
   "cell_type": "code",
   "execution_count": null,
   "metadata": {},
   "outputs": [],
   "source": [
    "model2=KNeighborsClassifier(n_neighbors=5)\n",
    "model2.fit(train_x,train_y)\n",
    "y_val_pred2=model2.predict(val_x)\n",
    "y_val_pred2=pd.DataFrame(y_val_pred2)\n",
    "y_test_pred2=model2.predict(x_test)\n",
    "y_test_pred2=pd.DataFrame(y_test_pred2)\n"
   ]
  },
  {
   "cell_type": "code",
   "execution_count": null,
   "metadata": {},
   "outputs": [],
   "source": [
    "model3=GaussianNB()\n",
    "model3.fit(train_x,train_y)\n",
    "y_val_pred3=model3.predict(val_x)\n",
    "y_val_pred3=pd.DataFrame(y_val_pred3)\n",
    "y_test_pred3=model3.predict(x_test)\n",
    "y_test_pred3=pd.DataFrame(y_test_pred3)"
   ]
  },
  {
   "cell_type": "code",
   "execution_count": null,
   "metadata": {},
   "outputs": [],
   "source": [
    "val_input=pd.concat([pd.DataFrame(val_x,columns=columns),y_val_pred1,y_val_pred2,y_val_pred3],axis=1)\n",
    "test_input=pd.concat([pd.DataFrame(x_test,columns=columns),y_test_pred1,y_test_pred2,y_test_pred3],axis=1)"
   ]
  },
  {
   "cell_type": "code",
   "execution_count": null,
   "metadata": {},
   "outputs": [],
   "source": [
    "model=RandomForestClassifier(n_estimators=200)\n",
    "model.fit(val_input,val_y)"
   ]
  },
  {
   "cell_type": "code",
   "execution_count": null,
   "metadata": {},
   "outputs": [],
   "source": [
    "print(model.score(test_input,y_test)*100,\"%\")"
   ]
  },
  {
   "cell_type": "markdown",
   "metadata": {},
   "source": [
    "# Implementation 2"
   ]
  },
  {
   "cell_type": "markdown",
   "metadata": {},
   "source": [
    "## First test"
   ]
  },
  {
   "cell_type": "markdown",
   "metadata": {},
   "source": [
    "Importation of some libraries"
   ]
  },
  {
   "cell_type": "code",
   "execution_count": 2,
   "metadata": {},
   "outputs": [],
   "source": [
    "import Code.creation_dataset as cd # \n",
    "import Code.knn as knn# use of another implementation of the knn\n",
    "import matplotlib.pylab as plt"
   ]
  },
  {
   "cell_type": "markdown",
   "metadata": {},
   "source": [
    "Generation of the dataset"
   ]
  },
  {
   "cell_type": "code",
   "execution_count": 3,
   "metadata": {},
   "outputs": [],
   "source": [
    "# DDoS element\n",
    "ddos = cd.read_document(\"dataset/ddos_dataset.csv\") + cd.read_document(\"dataset/ddos_att_dataset.csv\") + cd.read_document(\"dataset/ddos_full_dataset.csv\")\n",
    "# When the traffic is normal\n",
    "normal = cd.read_document(\"dataset/norm_dataset.csv\") + cd.read_document(\"dataset/normal_full_dataset.csv\")\n",
    "\n",
    "y= []\n",
    "for k in range(len(ddos)):\n",
    "    if k < 10: # due to the implementation the first 10 rows of the ddos element are normal and not DDoS\n",
    "        y.append(-1) # -1 represents normal traffic\n",
    "    else:\n",
    "        y.append(1) # 1 represents DDoS\n",
    "\n",
    "for k in range(len(normal)):\n",
    "    y.append(-1)\n",
    "\n",
    "dataset = ddos+normal\n",
    "X = np.array(dataset)\n",
    "y = np.array(y)\n"
   ]
  },
  {
   "cell_type": "markdown",
   "metadata": {},
   "source": [
    "Splitting the dataset"
   ]
  },
  {
   "cell_type": "code",
   "execution_count": 4,
   "metadata": {},
   "outputs": [],
   "source": [
    "X_train, X_res, y_train, y_res = train_test_split(X, y, train_size= 0.7)\n",
    "X_test, X_val, y_test, y_val =  train_test_split(X_res, y_res, train_size= 0.6)"
   ]
  },
  {
   "cell_type": "markdown",
   "metadata": {},
   "source": [
    "Creation and training of the model to test it"
   ]
  },
  {
   "cell_type": "code",
   "execution_count": 6,
   "metadata": {},
   "outputs": [],
   "source": [
    "model =  knn.KNN(3)\n",
    "model.train(X_train, y_train)"
   ]
  },
  {
   "cell_type": "markdown",
   "metadata": {},
   "source": [
    "Test on the testing set"
   ]
  },
  {
   "cell_type": "code",
   "execution_count": 7,
   "metadata": {},
   "outputs": [
    {
     "name": "stdout",
     "output_type": "stream",
     "text": [
      "98.9010989010989\n"
     ]
    },
    {
     "name": "stderr",
     "output_type": "stream",
     "text": [
      "/home/masson/Documents/EURECOM/malis-project/Code/knn.py:49: FutureWarning: Unlike other reduction functions (e.g. `skew`, `kurtosis`), the default behavior of `mode` typically preserves the axis it acts along. In SciPy 1.11.0, this behavior will change: the default value of `keepdims` will become False, the `axis` over which the statistic is taken will be eliminated, and the value None will no longer be accepted. Set `keepdims` to True or False to avoid this warning.\n",
      "  y_hat, _ = stats.mode(neighbors, axis=1) #As seen in the lecture, we use the mode to assign labels to the new data\n"
     ]
    }
   ],
   "source": [
    "y_pred = model.predict(X_test, 2)\n",
    "nb_true = 0\n",
    "for k in range(y_pred.size):\n",
    "    if y_pred[k] == y_test[k]:\n",
    "        nb_true += 1\n",
    "print((nb_true/y_pred.size)*100)"
   ]
  },
  {
   "cell_type": "markdown",
   "metadata": {},
   "source": [
    "Test on the validation set"
   ]
  },
  {
   "cell_type": "code",
   "execution_count": 7,
   "metadata": {},
   "outputs": [
    {
     "name": "stdout",
     "output_type": "stream",
     "text": [
      "96.72131147540983\n"
     ]
    }
   ],
   "source": [
    "y_valid = model.predict(X_val, 2)\n",
    "nb_true_val = 0\n",
    "for k in range(y_valid.size):\n",
    "    if y_valid[k] == y_val[k]:\n",
    "        nb_true_val += 1\n",
    "print((nb_true_val/y_valid.size)*100)"
   ]
  },
  {
   "cell_type": "markdown",
   "metadata": {},
   "source": [
    "## Optimisation"
   ]
  },
  {
   "cell_type": "markdown",
   "metadata": {},
   "source": [
    "### Determine the value of K"
   ]
  },
  {
   "cell_type": "markdown",
   "metadata": {},
   "source": [
    "Lists that allow the plot of the result according to the evolution of k"
   ]
  },
  {
   "cell_type": "code",
   "execution_count": 8,
   "metadata": {},
   "outputs": [],
   "source": [
    "x = []\n",
    "res_test = []\n",
    "res_val = []"
   ]
  },
  {
   "cell_type": "markdown",
   "metadata": {},
   "source": [
    "Experiment :"
   ]
  },
  {
   "cell_type": "code",
   "execution_count": 9,
   "metadata": {},
   "outputs": [],
   "source": [
    "for k in range(1, 200):\n",
    "    x.append(k)\n",
    "    \n",
    "    model =  knn.KNN(k)\n",
    "    model.train(X_train, y_train) # the training, testing and validation set are the same from the last part\n",
    "    \n",
    "    y_pred = model.predict(X_test, 2)\n",
    "    nb_true = 0\n",
    "    for k in range(y_pred.size):\n",
    "        if y_pred[k] == y_test[k]:\n",
    "            nb_true += 1\n",
    "    res_test.append((nb_true/y_pred.size)*100)\n",
    "    \n",
    "    y_valid = model.predict(X_val, 2)\n",
    "    nb_true_val = 0\n",
    "    for k in range(y_valid.size):\n",
    "        if y_valid[k] == y_val[k]:\n",
    "            nb_true_val += 1\n",
    "    res_val.append((nb_true_val/y_valid.size)*100)"
   ]
  },
  {
   "cell_type": "markdown",
   "metadata": {},
   "source": [
    "Presentation of the results"
   ]
  },
  {
   "cell_type": "code",
   "execution_count": 10,
   "metadata": {},
   "outputs": [
    {
     "data": {
      "text/plain": [
       "<matplotlib.legend.Legend at 0x7f1d773904f0>"
      ]
     },
     "execution_count": 10,
     "metadata": {},
     "output_type": "execute_result"
    },
    {
     "data": {
      "image/png": "[encoded data removed]",
      "text/plain": [
       "<Figure size 640x480 with 1 Axes>"
      ]
     },
     "metadata": {},
     "output_type": "display_data"
    }
   ],
   "source": [
    "plt.plot(x, res_test,\"b\", label = \"test set\")\n",
    "plt.plot(x, res_val,\"r--\", label = \"validation set\")\n",
    "plt.title(\"Accuracy of the kNN according the value of k\")\n",
    "plt.xlabel(\"value of k\")\n",
    "plt.ylabel(\"accuracy in %\")\n",
    "plt.legend()"
   ]
  },
  {
   "cell_type": "markdown",
   "metadata": {},
   "source": [
    "According to above graph, 10 seems to good value to test the minimun of training point needed"
   ]
  },
  {
   "cell_type": "markdown",
   "metadata": {},
   "source": [
    "## Determine the minimun training set to use the implementation"
   ]
  },
  {
   "cell_type": "markdown",
   "metadata": {},
   "source": [
    "Lists that allow the plot of the result according to the evolution of percentage of dataset used in the training"
   ]
  },
  {
   "cell_type": "code",
   "execution_count": 11,
   "metadata": {},
   "outputs": [],
   "source": [
    "x = []\n",
    "res_test = []\n",
    "res_val = []"
   ]
  },
  {
   "cell_type": "markdown",
   "metadata": {},
   "source": [
    "Experiment"
   ]
  },
  {
   "cell_type": "code",
   "execution_count": 12,
   "metadata": {},
   "outputs": [],
   "source": [
    "for k in range(20, 80, 5):\n",
    "    \n",
    "    x.append(k)\n",
    "    \n",
    "    # we recreate the set for the experiment\n",
    "    X_train, X_res, y_train, y_res = train_test_split(X, y, train_size= k/100)\n",
    "    X_test, X_val, y_test, y_val =  train_test_split(X_res, y_res, train_size= 0.7)\n",
    "    \n",
    "    model = knn.KNN(10)\n",
    "    model.train(X_train, y_train)\n",
    "    \n",
    "    y_pred = model.predict(X_test, 2)\n",
    "    nb_true = 0\n",
    "    for k in range(y_pred.size):\n",
    "        if y_pred[k] == y_test[k]:\n",
    "            nb_true += 1\n",
    "    res_test.append((nb_true/y_pred.size)*100)\n",
    "    \n",
    "    y_valid = model.predict(X_val, 2)\n",
    "    nb_true_val = 0\n",
    "    for k in range(y_valid.size):\n",
    "        if y_valid[k] == y_val[k]:\n",
    "            nb_true_val += 1\n",
    "    res_val.append((nb_true_val/y_valid.size)*100)"
   ]
  },
  {
   "cell_type": "markdown",
   "metadata": {},
   "source": [
    "Presentation of the results"
   ]
  },
  {
   "cell_type": "code",
   "execution_count": 13,
   "metadata": {},
   "outputs": [
    {
     "data": {
      "text/plain": [
       "<matplotlib.legend.Legend at 0x7f1d6f1f1a90>"
      ]
     },
     "execution_count": 13,
     "metadata": {},
     "output_type": "execute_result"
    },
    {
     "data": {
      "image/png": "[encoded data removed]",
      "text/plain": [
       "<Figure size 640x480 with 1 Axes>"
      ]
     },
     "metadata": {},
     "output_type": "display_data"
    }
   ],
   "source": [
    "plt.plot(x, res_test,\"b\", label = \"test set\")\n",
    "plt.plot(x, res_val,\"r--\", label = \"validation set\")\n",
    "plt.title(\"Accuracy of the kNN according to the percentage of dataset used for the training\")\n",
    "plt.xlabel(\"percentage of the dataset used in training\")\n",
    "plt.ylabel(\"accuracy in %\")\n",
    "plt.legend()"
   ]
  },
  {
   "cell_type": "markdown",
   "metadata": {},
   "source": [
    "It is impossible to conclude anything about this result"
   ]
  },
  {
   "cell_type": "markdown",
   "metadata": {},
   "source": [
    "## Test of the predict_train function"
   ]
  },
  {
   "cell_type": "markdown",
   "metadata": {},
   "source": [
    "Lists that allow the plot of the result according to the evolution of percentage of dataset used in the training"
   ]
  },
  {
   "cell_type": "code",
   "execution_count": 29,
   "metadata": {},
   "outputs": [],
   "source": [
    "x = []\n",
    "res_test = []\n",
    "res_val = []"
   ]
  },
  {
   "cell_type": "markdown",
   "metadata": {},
   "source": [
    "First Experiment:"
   ]
  },
  {
   "cell_type": "code",
   "execution_count": 30,
   "metadata": {},
   "outputs": [],
   "source": [
    "for k in range(20, 80, 5):\n",
    "    \n",
    "    x.append(k)\n",
    "    \n",
    "    X_train, X_res, y_train, y_res = train_test_split(X, y, train_size= k/100)\n",
    "    X_test, X_val, y_test, y_val =  train_test_split(X_res, y_res, train_size= 0.7)\n",
    "    \n",
    "    model = knn.KNN(10)\n",
    "    model.train(X_train, y_train)\n",
    "    y_pred = model.predict_train(X_test, 2)\n",
    "    nb_true = 0\n",
    "    for k in range(y_pred.size):\n",
    "        if y_pred[k] == y_test[k]:\n",
    "            nb_true += 1\n",
    "    res_test.append((nb_true/y_pred.size)*100)\n",
    "    \n",
    "    y_valid = model.predict(X_val, 2)\n",
    "    nb_true_val = 0\n",
    "    for k in range(y_valid.size):\n",
    "        if y_valid[k] == y_val[k]:\n",
    "            nb_true_val += 1\n",
    "    res_val.append((nb_true_val/y_valid.size)*100)"
   ]
  },
  {
   "cell_type": "markdown",
   "metadata": {},
   "source": [
    "Presentation of the results"
   ]
  },
  {
   "cell_type": "code",
   "execution_count": 28,
   "metadata": {},
   "outputs": [
    {
     "data": {
      "text/plain": [
       "<matplotlib.legend.Legend at 0x7f489a6a83a0>"
      ]
     },
     "execution_count": 28,
     "metadata": {},
     "output_type": "execute_result"
    },
    {
     "data": {
      "image/png": "[encoded data removed]",
      "text/plain": [
       "<Figure size 640x480 with 1 Axes>"
      ]
     },
     "metadata": {},
     "output_type": "display_data"
    }
   ],
   "source": [
    "plt.plot(x, res_test,\"b\", label = \"test set\")\n",
    "plt.plot(x, res_val,\"r--\", label = \"validation set\")\n",
    "plt.title(\"Accuracy of the kNN according to the percentage of dataset used for the training\")\n",
    "plt.xlabel(\"percentage of the dataset used in training\")\n",
    "plt.ylabel(\"accuracy in %\")\n",
    "plt.legend()"
   ]
  },
  {
   "cell_type": "markdown",
   "metadata": {},
   "source": [
    "It is impossible to conclude that the implementation of predict work"
   ]
  },
  {
   "cell_type": "markdown",
   "metadata": {},
   "source": [
    "List for the result of the secoind experiment"
   ]
  },
  {
   "cell_type": "code",
   "execution_count": 59,
   "metadata": {},
   "outputs": [],
   "source": [
    "x = [0] # this value is when only the training set is used\n",
    "res_val = []"
   ]
  },
  {
   "cell_type": "markdown",
   "metadata": {},
   "source": [
    "Second Experiment :"
   ]
  },
  {
   "cell_type": "code",
   "execution_count": 60,
   "metadata": {},
   "outputs": [
    {
     "name": "stdout",
     "output_type": "stream",
     "text": [
      "75\n",
      "76\n",
      "77\n",
      "78\n",
      "79\n",
      "80\n",
      "81\n",
      "82\n",
      "83\n",
      "84\n",
      "85\n",
      "86\n",
      "87\n",
      "88\n",
      "89\n",
      "90\n",
      "91\n",
      "92\n",
      "93\n",
      "94\n",
      "95\n",
      "96\n",
      "97\n",
      "98\n",
      "99\n",
      "100\n",
      "101\n",
      "102\n",
      "103\n",
      "104\n",
      "105\n",
      "106\n",
      "107\n",
      "108\n",
      "109\n",
      "110\n",
      "111\n",
      "112\n",
      "113\n",
      "114\n",
      "115\n",
      "116\n",
      "117\n",
      "118\n",
      "119\n",
      "120\n",
      "121\n",
      "122\n",
      "123\n",
      "124\n",
      "125\n",
      "126\n",
      "127\n",
      "128\n",
      "129\n",
      "130\n",
      "131\n",
      "132\n",
      "133\n",
      "134\n",
      "135\n",
      "136\n",
      "137\n",
      "138\n",
      "139\n",
      "140\n",
      "141\n",
      "142\n",
      "143\n",
      "144\n",
      "145\n",
      "146\n",
      "147\n",
      "148\n",
      "149\n",
      "150\n",
      "151\n",
      "152\n",
      "153\n",
      "154\n",
      "155\n",
      "156\n",
      "157\n",
      "158\n",
      "159\n",
      "160\n",
      "161\n",
      "162\n",
      "163\n",
      "164\n",
      "165\n",
      "166\n",
      "167\n",
      "168\n",
      "169\n",
      "170\n",
      "171\n",
      "172\n",
      "173\n",
      "174\n",
      "175\n",
      "176\n",
      "177\n",
      "178\n",
      "179\n",
      "180\n",
      "181\n",
      "182\n",
      "183\n",
      "184\n",
      "185\n",
      "186\n",
      "187\n",
      "188\n",
      "189\n",
      "190\n",
      "191\n",
      "192\n",
      "193\n",
      "194\n",
      "195\n",
      "196\n",
      "197\n",
      "198\n",
      "199\n",
      "200\n",
      "201\n",
      "202\n",
      "203\n",
      "204\n",
      "205\n",
      "206\n",
      "207\n",
      "208\n",
      "209\n",
      "210\n",
      "211\n",
      "212\n",
      "213\n",
      "214\n",
      "215\n",
      "216\n",
      "217\n",
      "218\n",
      "219\n",
      "220\n",
      "221\n",
      "222\n",
      "223\n",
      "224\n",
      "225\n",
      "226\n",
      "227\n",
      "228\n",
      "229\n",
      "230\n",
      "231\n",
      "232\n",
      "233\n",
      "234\n",
      "235\n",
      "236\n",
      "237\n",
      "238\n",
      "239\n",
      "240\n",
      "241\n",
      "242\n",
      "243\n",
      "244\n",
      "245\n",
      "246\n",
      "247\n",
      "248\n",
      "249\n",
      "250\n",
      "251\n",
      "252\n",
      "253\n",
      "254\n",
      "255\n",
      "256\n",
      "257\n",
      "258\n",
      "259\n",
      "260\n",
      "261\n",
      "262\n",
      "263\n",
      "264\n",
      "265\n",
      "266\n",
      "267\n",
      "268\n",
      "269\n",
      "270\n",
      "271\n",
      "272\n",
      "273\n",
      "274\n",
      "275\n",
      "276\n",
      "277\n",
      "278\n",
      "279\n",
      "280\n",
      "281\n",
      "282\n",
      "283\n",
      "284\n",
      "285\n",
      "286\n",
      "287\n",
      "288\n",
      "289\n",
      "290\n",
      "291\n",
      "292\n",
      "293\n",
      "294\n",
      "295\n",
      "296\n",
      "297\n",
      "298\n",
      "299\n",
      "300\n",
      "301\n",
      "302\n",
      "303\n",
      "304\n",
      "305\n",
      "306\n",
      "307\n",
      "308\n",
      "309\n",
      "310\n",
      "311\n",
      "312\n",
      "313\n",
      "314\n",
      "315\n",
      "316\n",
      "317\n",
      "318\n",
      "319\n",
      "320\n",
      "321\n",
      "322\n",
      "323\n",
      "324\n",
      "325\n",
      "326\n",
      "327\n",
      "328\n",
      "329\n",
      "330\n",
      "331\n",
      "332\n",
      "333\n"
     ]
    }
   ],
   "source": [
    "X_train, X_res, y_train, y_res = train_test_split(X, y, train_size= 0.15) # we used a very small dataset to watch the impact of it\n",
    "X_test, X_val, y_test, y_val =  train_test_split(X_res, y_res, train_size= 0.6)\n",
    "\n",
    "\n",
    "model = knn.KNN(10)\n",
    "model.train(X_train, y_train)\n",
    "\n",
    "\n",
    "# first test on the training set\n",
    "y_valid = model.predict(X_val, 2)\n",
    "nb_true_val = 0\n",
    "for k in range(y_valid.size):\n",
    "    if y_valid[k] == y_val[k]:\n",
    "        nb_true_val += 1\n",
    "res_val.append((nb_true_val/y_valid.size)*100)\n",
    "\n",
    "for k in range(X_test.shape[0]):\n",
    "    x.append(k+1)\n",
    "    y_test = model.predict_train(np.array([X_test[k]]),2)\n",
    "    y_valid = model.predict(X_val, 2)\n",
    "    nb_true_val = 0\n",
    "    for k in range(y_valid.size):\n",
    "        if y_valid[k] == y_val[k]:\n",
    "            nb_true_val += 1\n",
    "    res_val.append((nb_true_val/y_valid.size)*100)"
   ]
  },
  {
   "cell_type": "code",
   "execution_count": null,
   "metadata": {},
   "outputs": [],
   "source": [
    "Results :"
   ]
  },
  {
   "cell_type": "code",
   "execution_count": 62,
   "metadata": {},
   "outputs": [
    {
     "data": {
      "text/plain": [
       "<matplotlib.legend.Legend at 0x7f4890d7f2e0>"
      ]
     },
     "execution_count": 62,
     "metadata": {},
     "output_type": "execute_result"
    },
    {
     "data": {
      "image/png": "[encoded data removed]",
      "text/plain": [
       "<Figure size 640x480 with 1 Axes>"
      ]
     },
     "metadata": {},
     "output_type": "display_data"
    }
   ],
   "source": [
    "plt.plot(x, res_val,\"r--\", label = \"validation set\")\n",
    "plt.title(\"Accuracy of the kNN according to the number of test point added to the model\")\n",
    "plt.xlabel(\"number of test point add to the model\")\n",
    "plt.ylabel(\"accuracy in %\")\n",
    "plt.legend()"
   ]
  },
  {
   "cell_type": "markdown",
   "metadata": {},
   "source": [
    "The adding of new point allow to the model to increase the prediction's accuracy"
   ]
  }
 ],
 "metadata": {
  "kernelspec": {
   "display_name": "Python 3 (ipykernel)",
   "language": "python",
   "name": "python3"
  },
  "language_info": {
   "codemirror_mode": {
    "name": "ipython",
    "version": 3
   },
   "file_extension": ".py",
   "mimetype": "text/x-python",
   "name": "python",
   "nbconvert_exporter": "python",
   "pygments_lexer": "ipython3",
   "version": "3.8.13"
  },
  "vscode": {
   "interpreter": {
    "hash": "e0553e04c0ba5dfc9666d9376851c5e6fe1d230b91ad933498fac81b8e27404f"
   }
  }
 },
 "nbformat": 4,
 "nbformat_minor": 4
}
